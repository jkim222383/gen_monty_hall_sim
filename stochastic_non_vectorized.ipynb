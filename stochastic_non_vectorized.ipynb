{
 "cells": [
  {
   "cell_type": "code",
   "execution_count": 1,
   "metadata": {},
   "outputs": [],
   "source": [
    "#Load all the packages we'll need\n",
    "import altair as alt\n",
    "import numpy as np\n",
    "import pandas as pd\n",
    "# Couldn't figure out a way to code it in JAGS, so using numpy"
   ]
  },
  {
   "cell_type": "code",
   "execution_count": 2,
   "metadata": {},
   "outputs": [],
   "source": [
    "def set_up_game(all_doors):\n",
    "    return np.random.choice(all_doors, 1)"
   ]
  },
  {
   "cell_type": "code",
   "execution_count": 3,
   "metadata": {},
   "outputs": [],
   "source": [
    "def pick_first(all_doors):\n",
    "    return np.random.choice(all_doors, 1)"
   ]
  },
  {
   "cell_type": "code",
   "execution_count": 4,
   "metadata": {},
   "outputs": [],
   "source": [
    "def open_goat(closed_doors, car, my_door):\n",
    "    can_open = np.logical_and(closed_doors != car, closed_doors != my_door)\n",
    "    goat = np.random.choice(closed_doors[can_open], 1)\n",
    "    closed_doors = closed_doors[closed_doors != goat]\n",
    "    return goat, closed_doors"
   ]
  },
  {
   "cell_type": "code",
   "execution_count": 5,
   "metadata": {},
   "outputs": [],
   "source": [
    "def switch_or_stay(p, my_door, closed_doors):\n",
    "    # decision to switch follows Bernoulli(p)\n",
    "    # if switching, choose another closed door at random\n",
    "    if np.random.binomial(1, p) == 0:\n",
    "        return True, my_door\n",
    "    else:\n",
    "        return False, np.random.choice(closed_doors[closed_doors != my_door], 1)"
   ]
  },
  {
   "cell_type": "code",
   "execution_count": 6,
   "metadata": {},
   "outputs": [],
   "source": [
    "def simulate(N, M, p, verbose = False):\n",
    "    closed_doors = np.arange(N)\n",
    "    car = pick_first(closed_doors)\n",
    "    if verbose:\n",
    "        print(f\"Set up game: car at door {car} (shh don't tell anyone)\")\n",
    "    my_door = pick_first(closed_doors)\n",
    "    if verbose:\n",
    "        print(f\"First pick: picked door {my_door}\")\n",
    "    for i in range(M):\n",
    "        goat, closed_doors = open_goat(closed_doors, car, my_door)\n",
    "        if verbose:\n",
    "            print(f\"Turn {i+1}: goat at door {goat}!\")\n",
    "        switched, my_door = switch_or_stay(p, my_door, closed_doors)\n",
    "        if switched & verbose:\n",
    "            print(f\"Switched to door {my_door}\")\n",
    "    if my_door == car:\n",
    "        if verbose:\n",
    "            print(f\"\\nPicked a car!\\n\")\n",
    "        return True\n",
    "    if verbose:\n",
    "        print(f\"\\nPicked a goat :(\\n\")\n",
    "    return False"
   ]
  },
  {
   "cell_type": "code",
   "execution_count": 7,
   "metadata": {},
   "outputs": [],
   "source": [
    "def simulate_many(N, M, p, reps):\n",
    "    won = 0\n",
    "    for rep in range(reps):\n",
    "        won += simulate(N, M, p)\n",
    "    return won / reps"
   ]
  },
  {
   "cell_type": "code",
   "execution_count": 8,
   "metadata": {},
   "outputs": [
    {
     "data": {
      "text/html": [
       "\n",
       "<div id=\"altair-viz-e0b19acb99454d1193135dcec76a8a57\"></div>\n",
       "<script type=\"text/javascript\">\n",
       "  (function(spec, embedOpt){\n",
       "    let outputDiv = document.currentScript.previousElementSibling;\n",
       "    if (outputDiv.id !== \"altair-viz-e0b19acb99454d1193135dcec76a8a57\") {\n",
       "      outputDiv = document.getElementById(\"altair-viz-e0b19acb99454d1193135dcec76a8a57\");\n",
       "    }\n",
       "    const paths = {\n",
       "      \"vega\": \"https://cdn.jsdelivr.net/npm//vega@5?noext\",\n",
       "      \"vega-lib\": \"https://cdn.jsdelivr.net/npm//vega-lib?noext\",\n",
       "      \"vega-lite\": \"https://cdn.jsdelivr.net/npm//vega-lite@4.8.1?noext\",\n",
       "      \"vega-embed\": \"https://cdn.jsdelivr.net/npm//vega-embed@6?noext\",\n",
       "    };\n",
       "\n",
       "    function loadScript(lib) {\n",
       "      return new Promise(function(resolve, reject) {\n",
       "        var s = document.createElement('script');\n",
       "        s.src = paths[lib];\n",
       "        s.async = true;\n",
       "        s.onload = () => resolve(paths[lib]);\n",
       "        s.onerror = () => reject(`Error loading script: ${paths[lib]}`);\n",
       "        document.getElementsByTagName(\"head\")[0].appendChild(s);\n",
       "      });\n",
       "    }\n",
       "\n",
       "    function showError(err) {\n",
       "      outputDiv.innerHTML = `<div class=\"error\" style=\"color:red;\">${err}</div>`;\n",
       "      throw err;\n",
       "    }\n",
       "\n",
       "    function displayChart(vegaEmbed) {\n",
       "      vegaEmbed(outputDiv, spec, embedOpt)\n",
       "        .catch(err => showError(`Javascript Error: ${err.message}<br>This usually means there's a typo in your chart specification. See the javascript console for the full traceback.`));\n",
       "    }\n",
       "\n",
       "    if(typeof define === \"function\" && define.amd) {\n",
       "      requirejs.config({paths});\n",
       "      require([\"vega-embed\"], displayChart, err => showError(`Error loading script: ${err.message}`));\n",
       "    } else if (typeof vegaEmbed === \"function\") {\n",
       "      displayChart(vegaEmbed);\n",
       "    } else {\n",
       "      loadScript(\"vega\")\n",
       "        .then(() => loadScript(\"vega-lite\"))\n",
       "        .then(() => loadScript(\"vega-embed\"))\n",
       "        .catch(showError)\n",
       "        .then(() => displayChart(vegaEmbed));\n",
       "    }\n",
       "  })({\"config\": {\"view\": {\"continuousWidth\": 400, \"continuousHeight\": 300}}, \"data\": {\"name\": \"data-218ab4d656dd1e352c45bf09ef5f6c81\"}, \"mark\": {\"type\": \"bar\", \"size\": 35}, \"encoding\": {\"x\": {\"type\": \"quantitative\", \"axis\": {\"values\": [0.0, 0.1, 0.2, 0.30000000000000004, 0.4, 0.5, 0.6000000000000001, 0.7000000000000001, 0.8, 0.9, 1.0]}, \"field\": \"p\", \"title\": \"p\"}, \"y\": {\"type\": \"quantitative\", \"field\": \"success_rate\", \"title\": \"success_rate\"}}, \"$schema\": \"https://vega.github.io/schema/vega-lite/v4.8.1.json\", \"datasets\": {\"data-218ab4d656dd1e352c45bf09ef5f6c81\": [{\"p\": 0.0, \"success_rate\": 0.3405}, {\"p\": 0.1, \"success_rate\": 0.3745}, {\"p\": 0.2, \"success_rate\": 0.415}, {\"p\": 0.30000000000000004, \"success_rate\": 0.447}, {\"p\": 0.4, \"success_rate\": 0.4545}, {\"p\": 0.5, \"success_rate\": 0.503}, {\"p\": 0.6000000000000001, \"success_rate\": 0.559}, {\"p\": 0.7000000000000001, \"success_rate\": 0.554}, {\"p\": 0.8, \"success_rate\": 0.592}, {\"p\": 0.9, \"success_rate\": 0.6135}, {\"p\": 1.0, \"success_rate\": 0.651}]}}, {\"mode\": \"vega-lite\"});\n",
       "</script>"
      ],
      "text/plain": [
       "alt.Chart(...)"
      ]
     },
     "execution_count": 8,
     "metadata": {},
     "output_type": "execute_result"
    }
   ],
   "source": [
    "def simulation_plot(N, M, p, reps):\n",
    "    data_dict = {}\n",
    "    for p in np.arange(0, 1.1, 0.1):\n",
    "        data_dict[p] = simulate_many(N, M, p, reps)\n",
    "    data = pd.DataFrame.from_dict({'p' : data_dict.keys(),\n",
    "                                  'success_rate' : data_dict.values()})\n",
    "    chart = alt.Chart(data).mark_bar(size=35).encode(\n",
    "        x=alt.X('p', title = \"p\", axis=alt.Axis(values=list(np.arange(0,1.1,0.1)))),\n",
    "        y=alt.Y(\"success_rate\", title=\"success_rate\"))\n",
    "    \n",
    "    return chart\n",
    "\n",
    "chart = simulation_plot(3, 1, 1, 2000)        \n",
    "chart"
   ]
  },
  {
   "cell_type": "code",
   "execution_count": 9,
   "metadata": {},
   "outputs": [
    {
     "data": {
      "text/html": [
       "\n",
       "<div id=\"altair-viz-464f226297fa494abd32db99bdd2017a\"></div>\n",
       "<script type=\"text/javascript\">\n",
       "  (function(spec, embedOpt){\n",
       "    let outputDiv = document.currentScript.previousElementSibling;\n",
       "    if (outputDiv.id !== \"altair-viz-464f226297fa494abd32db99bdd2017a\") {\n",
       "      outputDiv = document.getElementById(\"altair-viz-464f226297fa494abd32db99bdd2017a\");\n",
       "    }\n",
       "    const paths = {\n",
       "      \"vega\": \"https://cdn.jsdelivr.net/npm//vega@5?noext\",\n",
       "      \"vega-lib\": \"https://cdn.jsdelivr.net/npm//vega-lib?noext\",\n",
       "      \"vega-lite\": \"https://cdn.jsdelivr.net/npm//vega-lite@4.8.1?noext\",\n",
       "      \"vega-embed\": \"https://cdn.jsdelivr.net/npm//vega-embed@6?noext\",\n",
       "    };\n",
       "\n",
       "    function loadScript(lib) {\n",
       "      return new Promise(function(resolve, reject) {\n",
       "        var s = document.createElement('script');\n",
       "        s.src = paths[lib];\n",
       "        s.async = true;\n",
       "        s.onload = () => resolve(paths[lib]);\n",
       "        s.onerror = () => reject(`Error loading script: ${paths[lib]}`);\n",
       "        document.getElementsByTagName(\"head\")[0].appendChild(s);\n",
       "      });\n",
       "    }\n",
       "\n",
       "    function showError(err) {\n",
       "      outputDiv.innerHTML = `<div class=\"error\" style=\"color:red;\">${err}</div>`;\n",
       "      throw err;\n",
       "    }\n",
       "\n",
       "    function displayChart(vegaEmbed) {\n",
       "      vegaEmbed(outputDiv, spec, embedOpt)\n",
       "        .catch(err => showError(`Javascript Error: ${err.message}<br>This usually means there's a typo in your chart specification. See the javascript console for the full traceback.`));\n",
       "    }\n",
       "\n",
       "    if(typeof define === \"function\" && define.amd) {\n",
       "      requirejs.config({paths});\n",
       "      require([\"vega-embed\"], displayChart, err => showError(`Error loading script: ${err.message}`));\n",
       "    } else if (typeof vegaEmbed === \"function\") {\n",
       "      displayChart(vegaEmbed);\n",
       "    } else {\n",
       "      loadScript(\"vega\")\n",
       "        .then(() => loadScript(\"vega-lite\"))\n",
       "        .then(() => loadScript(\"vega-embed\"))\n",
       "        .catch(showError)\n",
       "        .then(() => displayChart(vegaEmbed));\n",
       "    }\n",
       "  })({\"config\": {\"view\": {\"continuousWidth\": 400, \"continuousHeight\": 300}}, \"data\": {\"name\": \"data-fab6d00b177decf80e05809c14ff8f58\"}, \"mark\": {\"type\": \"bar\", \"size\": 35}, \"encoding\": {\"x\": {\"type\": \"quantitative\", \"axis\": {\"values\": [0.0, 0.1, 0.2, 0.30000000000000004, 0.4, 0.5, 0.6000000000000001, 0.7000000000000001, 0.8, 0.9, 1.0]}, \"field\": \"p\", \"title\": \"p\"}, \"y\": {\"type\": \"quantitative\", \"field\": \"success_rate\", \"title\": \"success_rate\"}}, \"$schema\": \"https://vega.github.io/schema/vega-lite/v4.8.1.json\", \"datasets\": {\"data-fab6d00b177decf80e05809c14ff8f58\": [{\"p\": 0.0, \"success_rate\": 0.0535}, {\"p\": 0.1, \"success_rate\": 0.0555}, {\"p\": 0.2, \"success_rate\": 0.0575}, {\"p\": 0.30000000000000004, \"success_rate\": 0.07}, {\"p\": 0.4, \"success_rate\": 0.074}, {\"p\": 0.5, \"success_rate\": 0.0735}, {\"p\": 0.6000000000000001, \"success_rate\": 0.0765}, {\"p\": 0.7000000000000001, \"success_rate\": 0.069}, {\"p\": 0.8, \"success_rate\": 0.0825}, {\"p\": 0.9, \"success_rate\": 0.0735}, {\"p\": 1.0, \"success_rate\": 0.078}]}}, {\"mode\": \"vega-lite\"});\n",
       "</script>"
      ],
      "text/plain": [
       "alt.Chart(...)"
      ]
     },
     "execution_count": 9,
     "metadata": {},
     "output_type": "execute_result"
    }
   ],
   "source": [
    "# This cell may take a long time to run\n",
    "chart = simulation_plot(20, 7, 1, 2000)        \n",
    "chart"
   ]
  },
  {
   "cell_type": "code",
   "execution_count": null,
   "metadata": {},
   "outputs": [],
   "source": []
  },
  {
   "cell_type": "code",
   "execution_count": null,
   "metadata": {},
   "outputs": [],
   "source": []
  }
 ],
 "metadata": {
  "kernelspec": {
   "display_name": "Python [conda env:dsci553env]",
   "language": "python",
   "name": "conda-env-dsci553env-py"
  },
  "language_info": {
   "codemirror_mode": {
    "name": "ipython",
    "version": 3
   },
   "file_extension": ".py",
   "mimetype": "text/x-python",
   "name": "python",
   "nbconvert_exporter": "python",
   "pygments_lexer": "ipython3",
   "version": "3.7.9"
  }
 },
 "nbformat": 4,
 "nbformat_minor": 4
}
