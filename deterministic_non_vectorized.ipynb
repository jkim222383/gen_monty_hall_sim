{
 "cells": [
  {
   "cell_type": "code",
   "execution_count": 1,
   "metadata": {},
   "outputs": [],
   "source": [
    "#Load all the packages we'll need\n",
    "import altair as alt\n",
    "import numpy as np\n",
    "import pandas as pd\n",
    "# Couldn't figure out a way to code it in JAGS, so using numpy"
   ]
  },
  {
   "cell_type": "code",
   "execution_count": 2,
   "metadata": {},
   "outputs": [],
   "source": [
    "# This simulation is deterministic in the sense that the decision to switch occurs deterministically\n",
    "# (once every T turns) instead of following a Bernoulli distribution\n",
    "# Host's choice of opening door is still stochastic\n",
    "def set_up_game(all_doors):\n",
    "    return np.random.choice(all_doors, 1)"
   ]
  },
  {
   "cell_type": "code",
   "execution_count": 3,
   "metadata": {},
   "outputs": [],
   "source": [
    "def pick_first(all_doors):\n",
    "    return np.random.choice(all_doors, 1)"
   ]
  },
  {
   "cell_type": "code",
   "execution_count": 4,
   "metadata": {},
   "outputs": [],
   "source": [
    "def open_goat(closed_doors, car, my_door):\n",
    "    can_open = np.logical_and(closed_doors != car, closed_doors != my_door)\n",
    "    goat = np.random.choice(closed_doors[can_open], 1)\n",
    "    closed_doors = closed_doors[closed_doors != goat]\n",
    "    return goat, closed_doors"
   ]
  },
  {
   "cell_type": "code",
   "execution_count": 5,
   "metadata": {},
   "outputs": [],
   "source": [
    "def switch_or_stay(my_door, closed_doors):\n",
    "    # switches when this function is called\n",
    "    return np.random.choice(closed_doors[closed_doors != my_door], 1)"
   ]
  },
  {
   "cell_type": "code",
   "execution_count": 6,
   "metadata": {},
   "outputs": [],
   "source": [
    "def simulate(N, M, T, verbose = False):\n",
    "    closed_doors = np.arange(N)\n",
    "    car = pick_first(closed_doors)\n",
    "    if verbose:\n",
    "        print(f\"Set up game: car at door {car} (shh don't tell anyone)\")\n",
    "    my_door = pick_first(closed_doors)\n",
    "    if verbose:\n",
    "        print(f\"First pick: picked door {my_door}\")\n",
    "    for i in range(M):\n",
    "        goat, closed_doors = open_goat(closed_doors, car, my_door)\n",
    "        if verbose:\n",
    "            print(f\"Turn {i+1}: goat at door {goat}!\")\n",
    "        if (i+1) % T == 0:\n",
    "            my_door = switch_or_stay(my_door, closed_doors)\n",
    "            if verbose:\n",
    "                print(f\"Switched to door {my_door}\")\n",
    "    if my_door == car:\n",
    "        if verbose:\n",
    "            print(f\"\\nPicked a car!\\n\")\n",
    "        return True\n",
    "    if verbose:\n",
    "        print(f\"\\nPicked a goat :(\\n\")\n",
    "    return False"
   ]
  },
  {
   "cell_type": "code",
   "execution_count": 7,
   "metadata": {},
   "outputs": [],
   "source": [
    "def simulate_many(N, M, T, reps):\n",
    "    won = 0\n",
    "    for rep in range(reps):\n",
    "        won += simulate(N, M, T)\n",
    "    return won / reps"
   ]
  },
  {
   "cell_type": "code",
   "execution_count": 8,
   "metadata": {},
   "outputs": [
    {
     "data": {
      "text/html": [
       "\n",
       "<div id=\"altair-viz-956529132ad14997afab72a9102d0c63\"></div>\n",
       "<script type=\"text/javascript\">\n",
       "  (function(spec, embedOpt){\n",
       "    let outputDiv = document.currentScript.previousElementSibling;\n",
       "    if (outputDiv.id !== \"altair-viz-956529132ad14997afab72a9102d0c63\") {\n",
       "      outputDiv = document.getElementById(\"altair-viz-956529132ad14997afab72a9102d0c63\");\n",
       "    }\n",
       "    const paths = {\n",
       "      \"vega\": \"https://cdn.jsdelivr.net/npm//vega@5?noext\",\n",
       "      \"vega-lib\": \"https://cdn.jsdelivr.net/npm//vega-lib?noext\",\n",
       "      \"vega-lite\": \"https://cdn.jsdelivr.net/npm//vega-lite@4.8.1?noext\",\n",
       "      \"vega-embed\": \"https://cdn.jsdelivr.net/npm//vega-embed@6?noext\",\n",
       "    };\n",
       "\n",
       "    function loadScript(lib) {\n",
       "      return new Promise(function(resolve, reject) {\n",
       "        var s = document.createElement('script');\n",
       "        s.src = paths[lib];\n",
       "        s.async = true;\n",
       "        s.onload = () => resolve(paths[lib]);\n",
       "        s.onerror = () => reject(`Error loading script: ${paths[lib]}`);\n",
       "        document.getElementsByTagName(\"head\")[0].appendChild(s);\n",
       "      });\n",
       "    }\n",
       "\n",
       "    function showError(err) {\n",
       "      outputDiv.innerHTML = `<div class=\"error\" style=\"color:red;\">${err}</div>`;\n",
       "      throw err;\n",
       "    }\n",
       "\n",
       "    function displayChart(vegaEmbed) {\n",
       "      vegaEmbed(outputDiv, spec, embedOpt)\n",
       "        .catch(err => showError(`Javascript Error: ${err.message}<br>This usually means there's a typo in your chart specification. See the javascript console for the full traceback.`));\n",
       "    }\n",
       "\n",
       "    if(typeof define === \"function\" && define.amd) {\n",
       "      requirejs.config({paths});\n",
       "      require([\"vega-embed\"], displayChart, err => showError(`Error loading script: ${err.message}`));\n",
       "    } else if (typeof vegaEmbed === \"function\") {\n",
       "      displayChart(vegaEmbed);\n",
       "    } else {\n",
       "      loadScript(\"vega\")\n",
       "        .then(() => loadScript(\"vega-lite\"))\n",
       "        .then(() => loadScript(\"vega-embed\"))\n",
       "        .catch(showError)\n",
       "        .then(() => displayChart(vegaEmbed));\n",
       "    }\n",
       "  })({\"config\": {\"view\": {\"continuousWidth\": 400, \"continuousHeight\": 300}}, \"data\": {\"name\": \"data-e91c0df20d46efe69091b30f47f4119f\"}, \"mark\": {\"type\": \"bar\", \"size\": 35}, \"encoding\": {\"x\": {\"type\": \"quantitative\", \"axis\": {\"values\": [0, 1, 2]}, \"field\": \"T\", \"title\": \"T\"}, \"y\": {\"type\": \"quantitative\", \"field\": \"success_rate\", \"title\": \"success_rate\"}}, \"$schema\": \"https://vega.github.io/schema/vega-lite/v4.8.1.json\", \"datasets\": {\"data-e91c0df20d46efe69091b30f47f4119f\": [{\"T\": 1, \"success_rate\": 0.6445}, {\"T\": 2, \"success_rate\": 0.3175}]}}, {\"mode\": \"vega-lite\"});\n",
       "</script>"
      ],
      "text/plain": [
       "alt.Chart(...)"
      ]
     },
     "execution_count": 8,
     "metadata": {},
     "output_type": "execute_result"
    }
   ],
   "source": [
    "def simulation_plot(N, M, reps):\n",
    "    data_dict = {}\n",
    "    for T in range(1, N - M + 1):\n",
    "        data_dict[T] = simulate_many(N, M, T, reps)\n",
    "    data = pd.DataFrame.from_dict({'T' : data_dict.keys(),\n",
    "                                  'success_rate' : data_dict.values()})\n",
    "    chart = alt.Chart(data).mark_bar(size=35).encode(\n",
    "        x=alt.X('T', title = \"T\", axis=alt.Axis(values=list(range(N)))),\n",
    "        y=alt.Y(\"success_rate\", title=\"success_rate\"))\n",
    "    \n",
    "    return chart\n",
    "\n",
    "# T in plot represents the number of steps before switching to another door \n",
    "# Largest value of T shown in plot means no switching at all\n",
    "chart = simulation_plot(3, 1, 2000)        \n",
    "chart"
   ]
  },
  {
   "cell_type": "code",
   "execution_count": 9,
   "metadata": {},
   "outputs": [
    {
     "data": {
      "text/html": [
       "\n",
       "<div id=\"altair-viz-75a04050af054e788a1d14587902d31f\"></div>\n",
       "<script type=\"text/javascript\">\n",
       "  (function(spec, embedOpt){\n",
       "    let outputDiv = document.currentScript.previousElementSibling;\n",
       "    if (outputDiv.id !== \"altair-viz-75a04050af054e788a1d14587902d31f\") {\n",
       "      outputDiv = document.getElementById(\"altair-viz-75a04050af054e788a1d14587902d31f\");\n",
       "    }\n",
       "    const paths = {\n",
       "      \"vega\": \"https://cdn.jsdelivr.net/npm//vega@5?noext\",\n",
       "      \"vega-lib\": \"https://cdn.jsdelivr.net/npm//vega-lib?noext\",\n",
       "      \"vega-lite\": \"https://cdn.jsdelivr.net/npm//vega-lite@4.8.1?noext\",\n",
       "      \"vega-embed\": \"https://cdn.jsdelivr.net/npm//vega-embed@6?noext\",\n",
       "    };\n",
       "\n",
       "    function loadScript(lib) {\n",
       "      return new Promise(function(resolve, reject) {\n",
       "        var s = document.createElement('script');\n",
       "        s.src = paths[lib];\n",
       "        s.async = true;\n",
       "        s.onload = () => resolve(paths[lib]);\n",
       "        s.onerror = () => reject(`Error loading script: ${paths[lib]}`);\n",
       "        document.getElementsByTagName(\"head\")[0].appendChild(s);\n",
       "      });\n",
       "    }\n",
       "\n",
       "    function showError(err) {\n",
       "      outputDiv.innerHTML = `<div class=\"error\" style=\"color:red;\">${err}</div>`;\n",
       "      throw err;\n",
       "    }\n",
       "\n",
       "    function displayChart(vegaEmbed) {\n",
       "      vegaEmbed(outputDiv, spec, embedOpt)\n",
       "        .catch(err => showError(`Javascript Error: ${err.message}<br>This usually means there's a typo in your chart specification. See the javascript console for the full traceback.`));\n",
       "    }\n",
       "\n",
       "    if(typeof define === \"function\" && define.amd) {\n",
       "      requirejs.config({paths});\n",
       "      require([\"vega-embed\"], displayChart, err => showError(`Error loading script: ${err.message}`));\n",
       "    } else if (typeof vegaEmbed === \"function\") {\n",
       "      displayChart(vegaEmbed);\n",
       "    } else {\n",
       "      loadScript(\"vega\")\n",
       "        .then(() => loadScript(\"vega-lite\"))\n",
       "        .then(() => loadScript(\"vega-embed\"))\n",
       "        .catch(showError)\n",
       "        .then(() => displayChart(vegaEmbed));\n",
       "    }\n",
       "  })({\"config\": {\"view\": {\"continuousWidth\": 400, \"continuousHeight\": 300}}, \"data\": {\"name\": \"data-1591d04d67bd3f8894a23dee0c22abfd\"}, \"mark\": {\"type\": \"bar\", \"size\": 35}, \"encoding\": {\"x\": {\"type\": \"quantitative\", \"axis\": {\"values\": [0, 1, 2, 3, 4, 5, 6, 7, 8, 9, 10, 11, 12, 13, 14, 15, 16, 17, 18, 19]}, \"field\": \"T\", \"title\": \"T\"}, \"y\": {\"type\": \"quantitative\", \"field\": \"success_rate\", \"title\": \"success_rate\"}}, \"$schema\": \"https://vega.github.io/schema/vega-lite/v4.8.1.json\", \"datasets\": {\"data-1591d04d67bd3f8894a23dee0c22abfd\": [{\"T\": 1, \"success_rate\": 0.071}, {\"T\": 2, \"success_rate\": 0.0725}, {\"T\": 3, \"success_rate\": 0.0735}, {\"T\": 4, \"success_rate\": 0.0695}, {\"T\": 5, \"success_rate\": 0.0695}, {\"T\": 6, \"success_rate\": 0.0685}, {\"T\": 7, \"success_rate\": 0.076}, {\"T\": 8, \"success_rate\": 0.0485}, {\"T\": 9, \"success_rate\": 0.0445}, {\"T\": 10, \"success_rate\": 0.051}, {\"T\": 11, \"success_rate\": 0.0445}, {\"T\": 12, \"success_rate\": 0.0525}, {\"T\": 13, \"success_rate\": 0.046}]}}, {\"mode\": \"vega-lite\"});\n",
       "</script>"
      ],
      "text/plain": [
       "alt.Chart(...)"
      ]
     },
     "execution_count": 9,
     "metadata": {},
     "output_type": "execute_result"
    }
   ],
   "source": [
    "# This cell may take a long time to run\n",
    "# T in plot represents the number of steps before switching to another door \n",
    "# Largest value of T shown in plot means no switching at all\n",
    "chart = simulation_plot(20, 7, 2000)        \n",
    "chart"
   ]
  },
  {
   "cell_type": "code",
   "execution_count": null,
   "metadata": {},
   "outputs": [],
   "source": []
  },
  {
   "cell_type": "code",
   "execution_count": null,
   "metadata": {},
   "outputs": [],
   "source": []
  }
 ],
 "metadata": {
  "kernelspec": {
   "display_name": "Python [conda env:dsci553env]",
   "language": "python",
   "name": "conda-env-dsci553env-py"
  },
  "language_info": {
   "codemirror_mode": {
    "name": "ipython",
    "version": 3
   },
   "file_extension": ".py",
   "mimetype": "text/x-python",
   "name": "python",
   "nbconvert_exporter": "python",
   "pygments_lexer": "ipython3",
   "version": "3.7.9"
  }
 },
 "nbformat": 4,
 "nbformat_minor": 4
}
